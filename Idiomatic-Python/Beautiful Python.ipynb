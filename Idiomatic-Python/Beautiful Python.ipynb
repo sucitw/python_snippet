{
  "nbformat": 4,
  "nbformat_minor": 0,
  "metadata": {
    "kernelspec": {
      "display_name": "Python 3",
      "language": "python",
      "name": "python3"
    },
    "language_info": {
      "codemirror_mode": {
        "name": "ipython",
        "version": 3
      },
      "file_extension": ".py",
      "mimetype": "text/x-python",
      "name": "python",
      "nbconvert_exporter": "python",
      "pygments_lexer": "ipython3",
      "version": "3.6.3"
    },
    "colab": {
      "name": "Beautiful Python.ipynb",
      "provenance": []
    }
  },
  "cells": [
    {
      "cell_type": "markdown",
      "metadata": {
        "id": "lx5gDXxMufX5"
      },
      "source": [
        "### The content of the notebook is based on \"Transforming Code into Beautiful, Idiomatic Python\" by Raymond Hettinger at pycon US 2013  [video](http://www.youtube.com/watch?feature=player_embedded&v=OSGv2VnC0go), [slides](https://speakerdeck.com/pyconslides/transforming-code-into-beautiful-idiomatic-python-by-raymond-hettinger-1)\n"
      ]
    },
    {
      "cell_type": "markdown",
      "metadata": {
        "id": "Ai1kA7I6ufYF"
      },
      "source": [
        "## Contents\n",
        "- Looping over a range of functions\n",
        "- Looping over a collection\n",
        "- Looping backwards\n",
        "- Looping over a collection of indicies\n",
        "- Looping over two collections\n",
        "- Looping in sorted order\n",
        "- Custom sort order\n",
        "- Call a function until a sentinel value\n",
        "- Distinguishing multiple exit points in loops\n",
        "- Looping over dictionary keys\n",
        "- Looping over dictionary keys and values\n",
        "- Construct a dictionary from pairs\n",
        "- Counting with dictionaries\n",
        "- Grouping with dictionaries\n",
        "- Is a dictionary pop() atomic?\n",
        "- Linking dictionaries\n",
        "- Clarify function calls with keyword arguments\n",
        "- Clarify multiple return values with named tuples\n",
        "- Unpacking sequences\n",
        "- Updating multiple state variables\n",
        "- Simultaneous state updates\n",
        "- Concatenating strings\n",
        "- Updating sequences\n",
        "- Using decorators to factor-out administrative logic\n",
        "- How to open and close files\n",
        "- Concise expressive one-liners"
      ]
    },
    {
      "cell_type": "markdown",
      "metadata": {
        "id": "9Y9V65HGufYI"
      },
      "source": [
        "### Looping over a range of functions"
      ]
    },
    {
      "cell_type": "code",
      "metadata": {
        "id": "Kd6XDwjtufYJ",
        "outputId": "6780330e-467f-4fc0-e0ce-a2f2e7e9a3aa"
      },
      "source": [
        "# make a list and loop over the list\n",
        "# python for is not the same as other language\n",
        "# it uses the iterator protocal\n",
        "\n",
        "for i in [0,1,2,3,4,5]:\n",
        "    print (i**2)"
      ],
      "execution_count": null,
      "outputs": [
        {
          "output_type": "stream",
          "text": [
            "0\n",
            "1\n",
            "4\n",
            "9\n",
            "16\n",
            "25\n"
          ],
          "name": "stdout"
        }
      ]
    },
    {
      "cell_type": "code",
      "metadata": {
        "id": "uMi23fJCufYM",
        "outputId": "8c4d2e73-4e2c-4d33-cfbc-33e13c732d5c"
      },
      "source": [
        "# the output of range is the list above\n",
        "\n",
        "for i in range(6):\n",
        "    print (i**2)"
      ],
      "execution_count": null,
      "outputs": [
        {
          "output_type": "stream",
          "text": [
            "0\n",
            "1\n",
            "4\n",
            "9\n",
            "16\n",
            "25\n"
          ],
          "name": "stdout"
        }
      ]
    },
    {
      "cell_type": "markdown",
      "metadata": {
        "id": "5MI0Lh_qufYN"
      },
      "source": [
        "range is removed and xrange (iterator based range) has substituted it in Python 3"
      ]
    },
    {
      "cell_type": "markdown",
      "metadata": {
        "id": "70E8kFnUufZq"
      },
      "source": [
        "### Looping over a collection"
      ]
    },
    {
      "cell_type": "code",
      "metadata": {
        "collapsed": true,
        "id": "GXsYRSwpufZr"
      },
      "source": [
        "colors = ['red', 'green', 'blue', 'yellow']"
      ],
      "execution_count": null,
      "outputs": []
    },
    {
      "cell_type": "code",
      "metadata": {
        "id": "7vtehrNdufZ1",
        "outputId": "1dcb5e40-f661-44c3-b0d6-14aab75d7f89"
      },
      "source": [
        "# How would a C programmer do it?\n",
        "\n",
        "for i in range(len(colors)):\n",
        "    print (colors[i])"
      ],
      "execution_count": null,
      "outputs": [
        {
          "output_type": "stream",
          "text": [
            "red\n",
            "green\n",
            "blue\n",
            "yellow\n"
          ],
          "name": "stdout"
        }
      ]
    },
    {
      "cell_type": "code",
      "metadata": {
        "id": "Ua0QeZtlufZ3",
        "outputId": "80d713d1-d42f-40c2-c2b8-babff052ed12"
      },
      "source": [
        "# Pythonic way\n",
        "\n",
        "for color in colors:\n",
        "    print (color)"
      ],
      "execution_count": null,
      "outputs": [
        {
          "output_type": "stream",
          "text": [
            "red\n",
            "green\n",
            "blue\n",
            "yellow\n"
          ],
          "name": "stdout"
        }
      ]
    },
    {
      "cell_type": "markdown",
      "metadata": {
        "id": "X7i_qGfTufaD"
      },
      "source": [
        "### Looping backwards"
      ]
    },
    {
      "cell_type": "code",
      "metadata": {
        "id": "3Y6rYp-fufaF",
        "outputId": "8e067473-629d-4474-934c-3d4152d2d4c2"
      },
      "source": [
        "# start from the back, step -1\n",
        "# C programmer\n",
        "\n",
        "for i in range(len(colors)-1, -1, -1):\n",
        "    print (colors[i])"
      ],
      "execution_count": null,
      "outputs": [
        {
          "output_type": "stream",
          "text": [
            "yellow\n",
            "blue\n",
            "green\n",
            "red\n"
          ],
          "name": "stdout"
        }
      ]
    },
    {
      "cell_type": "code",
      "metadata": {
        "id": "akBN_q67ufaM",
        "outputId": "459efb48-86ba-4052-af8e-3268075f71ef"
      },
      "source": [
        "# pythonic way\n",
        "\n",
        "for color in reversed(colors):\n",
        "    print (color)"
      ],
      "execution_count": null,
      "outputs": [
        {
          "output_type": "stream",
          "text": [
            "yellow\n",
            "blue\n",
            "green\n",
            "red\n"
          ],
          "name": "stdout"
        }
      ]
    },
    {
      "cell_type": "markdown",
      "metadata": {
        "id": "AFQZrIXRufaM"
      },
      "source": [
        "### Looping over a collection of indicies"
      ]
    },
    {
      "cell_type": "code",
      "metadata": {
        "id": "YrcnBJeYufaN",
        "outputId": "c0b4f5dc-1341-467e-ff5f-e6c82b32954d"
      },
      "source": [
        "# C programmer\n",
        "\n",
        "for i in range(len(colors)):\n",
        "    print (i, '--->', colors[i])"
      ],
      "execution_count": null,
      "outputs": [
        {
          "output_type": "stream",
          "text": [
            "0 ---> red\n",
            "1 ---> green\n",
            "2 ---> blue\n",
            "3 ---> yellow\n"
          ],
          "name": "stdout"
        }
      ]
    },
    {
      "cell_type": "code",
      "metadata": {
        "id": "BZUePulfufaQ",
        "outputId": "2588d8f1-04a3-40f7-c8e7-c37e6e56307b"
      },
      "source": [
        "# pythonic way\n",
        "\n",
        "for i, color in enumerate(colors):\n",
        "    print (i, '--->', color)"
      ],
      "execution_count": null,
      "outputs": [
        {
          "output_type": "stream",
          "text": [
            "0 ---> red\n",
            "1 ---> green\n",
            "2 ---> blue\n",
            "3 ---> yellow\n"
          ],
          "name": "stdout"
        }
      ]
    },
    {
      "cell_type": "markdown",
      "metadata": {
        "id": "fZ6hBFngufaQ"
      },
      "source": [
        "### Looping over two collections"
      ]
    },
    {
      "cell_type": "code",
      "metadata": {
        "collapsed": true,
        "id": "9kjNtxIEufaR"
      },
      "source": [
        "names = ['raymond', 'rachel', 'matthew']\n",
        "colors = ['red', 'green', 'blue', 'yellow']"
      ],
      "execution_count": null,
      "outputs": []
    },
    {
      "cell_type": "code",
      "metadata": {
        "id": "2izJrJ-4ufaR",
        "outputId": "f84eab95-6f99-4591-df5c-f683bac53210"
      },
      "source": [
        "# c programmer\n",
        "\n",
        "n = min(len(names), len(colors))\n",
        "for i in range(n):\n",
        "    print (names[i], '--->', colors[i])"
      ],
      "execution_count": null,
      "outputs": [
        {
          "output_type": "stream",
          "text": [
            "raymond ---> red\n",
            "rachel ---> green\n",
            "matthew ---> blue\n"
          ],
          "name": "stdout"
        }
      ]
    },
    {
      "cell_type": "code",
      "metadata": {
        "id": "8-krn20jufaS",
        "outputId": "8f0f2193-ac90-433a-f080-219bc15bbb92"
      },
      "source": [
        "# pythonic way\n",
        "\n",
        "for name, color in zip(names, colors):\n",
        "    print (name, '--->', color)"
      ],
      "execution_count": null,
      "outputs": [
        {
          "output_type": "stream",
          "text": [
            "raymond ---> red\n",
            "rachel ---> green\n",
            "matthew ---> blue\n"
          ],
          "name": "stdout"
        }
      ]
    },
    {
      "cell_type": "markdown",
      "metadata": {
        "id": "AkNB9HLgufaT"
      },
      "source": [
        "zip menifests a third list in memory, the third list consists of tuples. It does not scale. Until Python 3 where zip was removed and replaced with izip which uses the iterator property."
      ]
    },
    {
      "cell_type": "markdown",
      "metadata": {
        "id": "6aBmConSufaT"
      },
      "source": [
        "### Looping in sorted order"
      ]
    },
    {
      "cell_type": "code",
      "metadata": {
        "collapsed": true,
        "id": "7WtGGQcKufaT"
      },
      "source": [
        "colors = ['red', 'green', 'blue', 'yellow']"
      ],
      "execution_count": null,
      "outputs": []
    },
    {
      "cell_type": "code",
      "metadata": {
        "id": "dGBcWeV8ufaT",
        "outputId": "23449923-d84a-4093-af63-3aac0ae13a28"
      },
      "source": [
        "for color in sorted(colors):\n",
        "    print (color)"
      ],
      "execution_count": null,
      "outputs": [
        {
          "output_type": "stream",
          "text": [
            "blue\n",
            "green\n",
            "red\n",
            "yellow\n"
          ],
          "name": "stdout"
        }
      ]
    },
    {
      "cell_type": "code",
      "metadata": {
        "id": "hZ3LoSNsufaU",
        "outputId": "c749044d-f67f-490c-d4c1-603a2ca711dc"
      },
      "source": [
        "for color in sorted(colors, reverse=True):\n",
        "    print (color)"
      ],
      "execution_count": null,
      "outputs": [
        {
          "output_type": "stream",
          "text": [
            "yellow\n",
            "red\n",
            "green\n",
            "blue\n"
          ],
          "name": "stdout"
        }
      ]
    },
    {
      "cell_type": "markdown",
      "metadata": {
        "id": "eQVeYP4CufaW"
      },
      "source": [
        "### Custom sort order"
      ]
    },
    {
      "cell_type": "code",
      "metadata": {
        "collapsed": true,
        "id": "gZmBcsMBufaX"
      },
      "source": [
        "colors = ['red', 'green', 'blue', 'yellow']"
      ],
      "execution_count": null,
      "outputs": []
    },
    {
      "cell_type": "code",
      "metadata": {
        "collapsed": true,
        "id": "BmGhrFVxufaX"
      },
      "source": [
        "def compare_length(c1, c2):\n",
        "    if len(c1) < len(c2): return -1\n",
        "    if len(c1) > len(c2): return 1\n",
        "    return 0\n",
        "\n",
        "# print (sorted(colors, cmp=compare_length))"
      ],
      "execution_count": null,
      "outputs": []
    },
    {
      "cell_type": "code",
      "metadata": {
        "id": "nYo89BhxufaX",
        "outputId": "77cf68b9-dfc2-48f2-d106-d2fafbce3e91"
      },
      "source": [
        "print (sorted(colors, key=len))"
      ],
      "execution_count": null,
      "outputs": [
        {
          "output_type": "stream",
          "text": [
            "['red', 'blue', 'green', 'yellow']\n"
          ],
          "name": "stdout"
        }
      ]
    },
    {
      "cell_type": "markdown",
      "metadata": {
        "id": "s2G7sHHkufaY"
      },
      "source": [
        "> Key functions will be shorter and faster and they are no longer in python3. For any comparison function there is a key function"
      ]
    },
    {
      "cell_type": "markdown",
      "metadata": {
        "collapsed": true,
        "id": "m4v5yEiPufaY"
      },
      "source": [
        "### Call a function until a sentinel value"
      ]
    },
    {
      "cell_type": "code",
      "metadata": {
        "id": "-hqZYm6mufaZ"
      },
      "source": [
        "# blocks = []\n",
        "# while True:\n",
        "#     block = f.read(32)\n",
        "#     if block == '':\n",
        "#         break\n",
        "#     blocks.append(block)"
      ],
      "execution_count": null,
      "outputs": []
    },
    {
      "cell_type": "code",
      "metadata": {
        "id": "872Bn26HufaZ"
      },
      "source": [
        "# blocks = []\n",
        "# for block in iter(partical(f.read, 32), ''):\n",
        "#     blocks.append(block)"
      ],
      "execution_count": null,
      "outputs": []
    },
    {
      "cell_type": "markdown",
      "metadata": {
        "id": "MzdsH5HGufaZ"
      },
      "source": [
        "iter?\n",
        "\n",
        "Docstring:\n",
        "iter(iterable) -> iterator\n",
        "iter(callable, sentinel) -> iterator\n",
        "\n",
        "Get an iterator from an object.  In the first form, the argument must\n",
        "supply its own iterator, or be a sequence.\n",
        "In the second form, the callable is called until it returns the sentinel.\n",
        "Type:      builtin_function_or_method"
      ]
    },
    {
      "cell_type": "markdown",
      "metadata": {
        "id": "K_aUv2_dufaa"
      },
      "source": [
        "iter's second parameter takes in sentinel"
      ]
    },
    {
      "cell_type": "markdown",
      "metadata": {
        "id": "S8ZOikY6ufaa"
      },
      "source": [
        "In order for it to work, the function has to have no arguements, partial takes in function of many arguments to small arguments"
      ]
    },
    {
      "cell_type": "markdown",
      "metadata": {
        "id": "bprGQOOfufaa"
      },
      "source": [
        "##### Partial Function"
      ]
    },
    {
      "cell_type": "code",
      "metadata": {
        "id": "QZn5s6xwufaa"
      },
      "source": [
        "def func(one, two, three):\n",
        "    print ('{} {} {}'.format (one, two, three))"
      ],
      "execution_count": null,
      "outputs": []
    },
    {
      "cell_type": "code",
      "metadata": {
        "id": "0rs4Ag1kufab",
        "outputId": "03f66107-20bb-49c4-8e83-9475b19d1e34"
      },
      "source": [
        "func('a', 'b', 'c')"
      ],
      "execution_count": null,
      "outputs": [
        {
          "output_type": "stream",
          "text": [
            "a b c\n"
          ],
          "name": "stdout"
        }
      ]
    },
    {
      "cell_type": "code",
      "metadata": {
        "collapsed": true,
        "id": "rZIZhovxufab"
      },
      "source": [
        "from functools import partial\n",
        "\n",
        "test = partial(func, 'a')"
      ],
      "execution_count": null,
      "outputs": []
    },
    {
      "cell_type": "code",
      "metadata": {
        "id": "hS-pbRGuufab",
        "outputId": "14b66c99-0d4e-4698-efcc-9460035ecbd8"
      },
      "source": [
        "test('b', 'c')"
      ],
      "execution_count": null,
      "outputs": [
        {
          "output_type": "stream",
          "text": [
            "a b c\n"
          ],
          "name": "stdout"
        }
      ]
    },
    {
      "cell_type": "markdown",
      "metadata": {
        "id": "UuchyIQdufac"
      },
      "source": [
        "### Distinguishing multiple exit points in loops"
      ]
    },
    {
      "cell_type": "code",
      "metadata": {
        "collapsed": true,
        "id": "ACv2JimRufac"
      },
      "source": [
        "def find(seq, target):\n",
        "    found = False\n",
        "    for i, value in enumerate(seq):\n",
        "        if value == target:\n",
        "            found = True\n",
        "            break\n",
        "    if not found:\n",
        "        return -1\n",
        "    return i"
      ],
      "execution_count": null,
      "outputs": []
    },
    {
      "cell_type": "code",
      "metadata": {
        "id": "UlY2iTsTufac",
        "outputId": "4c688c88-7ec7-407b-d9f7-aaabb0316c51"
      },
      "source": [
        "print (find ('monkey brains', 'o'))"
      ],
      "execution_count": null,
      "outputs": [
        {
          "output_type": "stream",
          "text": [
            "1\n"
          ],
          "name": "stdout"
        }
      ]
    },
    {
      "cell_type": "code",
      "metadata": {
        "collapsed": true,
        "id": "0NGyfjJGufad"
      },
      "source": [
        "#### Try to avoid flags as much as possible"
      ],
      "execution_count": null,
      "outputs": []
    },
    {
      "cell_type": "code",
      "metadata": {
        "collapsed": true,
        "id": "Qz1eImKoufad"
      },
      "source": [
        "def find(seq, target):\n",
        "    for i, value in enumerate(seq):\n",
        "        if value == target:\n",
        "            break\n",
        "    else:\n",
        "        return -1\n",
        "    return i"
      ],
      "execution_count": null,
      "outputs": []
    },
    {
      "cell_type": "code",
      "metadata": {
        "id": "FSx4DBQdufad",
        "outputId": "ad7fba2a-4984-489c-9350-7c02fe0618be"
      },
      "source": [
        "print (find ('monkey brains', 'o'))"
      ],
      "execution_count": null,
      "outputs": [
        {
          "output_type": "stream",
          "text": [
            "1\n"
          ],
          "name": "stdout"
        }
      ]
    },
    {
      "cell_type": "markdown",
      "metadata": {
        "id": "tiM1sHOVufae"
      },
      "source": [
        "> Remember else in for like you remember 'nobreak'"
      ]
    },
    {
      "cell_type": "markdown",
      "metadata": {
        "id": "VEM2oXq-ufae"
      },
      "source": [
        "### Looping over dictionary keys"
      ]
    },
    {
      "cell_type": "code",
      "metadata": {
        "collapsed": true,
        "id": "1kZAbvvfufae"
      },
      "source": [
        "d = {'matthew': 'blue', 'rachel': 'green', 'raymond': 'red'}"
      ],
      "execution_count": null,
      "outputs": []
    },
    {
      "cell_type": "code",
      "metadata": {
        "id": "uFVpqlMDufag",
        "outputId": "3ee5b628-f262-4244-a37b-5fa89d39c8b8"
      },
      "source": [
        "# printing k\n",
        "\n",
        "for k in d:\n",
        "    print (k)"
      ],
      "execution_count": null,
      "outputs": [
        {
          "output_type": "stream",
          "text": [
            "matthew\n",
            "rachel\n",
            "raymond\n"
          ],
          "name": "stdout"
        }
      ]
    },
    {
      "cell_type": "code",
      "metadata": {
        "id": "yyWcN8ecufah",
        "outputId": "015a25ff-0981-48ba-afb8-89123574a6c5"
      },
      "source": [
        "for k in d.keys():\n",
        "    print (k)"
      ],
      "execution_count": null,
      "outputs": [
        {
          "output_type": "stream",
          "text": [
            "matthew\n",
            "rachel\n",
            "raymond\n"
          ],
          "name": "stdout"
        }
      ]
    },
    {
      "cell_type": "code",
      "metadata": {
        "id": "_r-lpCXkufal",
        "outputId": "d8d7db36-debb-451e-bfc8-e8ad78ee4c8d"
      },
      "source": [
        "# one way of printing key and values\n",
        "\n",
        "for k in d:\n",
        "    print (k, '--->', d[k])"
      ],
      "execution_count": null,
      "outputs": [
        {
          "output_type": "stream",
          "text": [
            "matthew ---> blue\n",
            "rachel ---> green\n",
            "raymond ---> red\n"
          ],
          "name": "stdout"
        }
      ]
    },
    {
      "cell_type": "code",
      "metadata": {
        "id": "kAnZipb9ufam",
        "outputId": "5803ee30-8643-4433-8e02-b0a0ba4c2619"
      },
      "source": [
        "# better way/pythonic\n",
        "\n",
        "for k, v in d.items():\n",
        "    print (k, '--->', v)"
      ],
      "execution_count": null,
      "outputs": [
        {
          "output_type": "stream",
          "text": [
            "matthew ---> blue\n",
            "rachel ---> green\n",
            "raymond ---> red\n"
          ],
          "name": "stdout"
        }
      ]
    },
    {
      "cell_type": "markdown",
      "metadata": {
        "id": "pJs7K3Taufan"
      },
      "source": [
        "> items was removed and replaced with iteritems as of py 3"
      ]
    },
    {
      "cell_type": "markdown",
      "metadata": {
        "id": "nVqWZllhufan"
      },
      "source": [
        "### Construct a dictionary from pairs"
      ]
    },
    {
      "cell_type": "code",
      "metadata": {
        "collapsed": true,
        "id": "W4DLylJAufao"
      },
      "source": [
        "names = ['raymond', 'rachel', 'matthew']\n",
        "colors = ['red', 'green', 'blue']"
      ],
      "execution_count": null,
      "outputs": []
    },
    {
      "cell_type": "code",
      "metadata": {
        "id": "ACc8rGKkufao"
      },
      "source": [
        "d = dict(zip(names, colors))"
      ],
      "execution_count": null,
      "outputs": []
    },
    {
      "cell_type": "code",
      "metadata": {
        "id": "NwsjGf15ufas",
        "outputId": "53fdc33f-7895-4380-c887-f22a843c8cb6"
      },
      "source": [
        "d"
      ],
      "execution_count": null,
      "outputs": [
        {
          "output_type": "execute_result",
          "data": {
            "text/plain": [
              "{'matthew': 'blue', 'rachel': 'green', 'raymond': 'red'}"
            ]
          },
          "metadata": {
            "tags": []
          },
          "execution_count": 37
        }
      ]
    },
    {
      "cell_type": "markdown",
      "metadata": {
        "id": "cB8BoT5Zufat"
      },
      "source": [
        "> zip was replaced by izip as of py3"
      ]
    },
    {
      "cell_type": "markdown",
      "metadata": {
        "id": "F2fDN0Koufaw"
      },
      "source": [
        "### Counting with dictionaries"
      ]
    },
    {
      "cell_type": "code",
      "metadata": {
        "collapsed": true,
        "id": "d8LHVWrbufax"
      },
      "source": [
        "colors = ['red', 'green', 'red', 'blue', 'green', 'red']"
      ],
      "execution_count": null,
      "outputs": []
    },
    {
      "cell_type": "code",
      "metadata": {
        "collapsed": true,
        "id": "FHEZ8OmGufax"
      },
      "source": [
        "d = {}"
      ],
      "execution_count": null,
      "outputs": []
    },
    {
      "cell_type": "code",
      "metadata": {
        "collapsed": true,
        "id": "WYG0ZcMlufax"
      },
      "source": [
        "# basic method of doing it\n",
        "\n",
        "for color in colors:\n",
        "    if color not in d:\n",
        "        d[color] = 0\n",
        "    d[color] += 1"
      ],
      "execution_count": null,
      "outputs": []
    },
    {
      "cell_type": "code",
      "metadata": {
        "id": "ofK2SyiYufax",
        "outputId": "523dac40-2571-4ede-e1de-4190ccde5fa1"
      },
      "source": [
        "print(d)"
      ],
      "execution_count": null,
      "outputs": [
        {
          "output_type": "stream",
          "text": [
            "{'red': 3, 'green': 2, 'blue': 1}\n"
          ],
          "name": "stdout"
        }
      ]
    },
    {
      "cell_type": "code",
      "metadata": {
        "collapsed": true,
        "id": "uW1Nhmrmufay"
      },
      "source": [
        "d = {}\n",
        "for color in colors:\n",
        "    d[color] = d.get(color, 0) + 1"
      ],
      "execution_count": null,
      "outputs": []
    },
    {
      "cell_type": "code",
      "metadata": {
        "id": "1-GJmANYufaz",
        "outputId": "47b271db-a0d3-498d-fecb-3630732d7277"
      },
      "source": [
        "print(d)"
      ],
      "execution_count": null,
      "outputs": [
        {
          "output_type": "stream",
          "text": [
            "{'red': 3, 'green': 2, 'blue': 1}\n"
          ],
          "name": "stdout"
        }
      ]
    },
    {
      "cell_type": "code",
      "metadata": {
        "id": "8aA-8EYxufaz"
      },
      "source": [
        "from collections import defaultdict\n",
        "d = defaultdict(int)\n",
        "for color in colors:\n",
        "    d[color] += 1"
      ],
      "execution_count": null,
      "outputs": []
    },
    {
      "cell_type": "code",
      "metadata": {
        "id": "yufrbmlkufaz",
        "outputId": "8384d541-3973-49ab-e851-38b1e4ceca46"
      },
      "source": [
        "print(d)"
      ],
      "execution_count": null,
      "outputs": [
        {
          "output_type": "stream",
          "text": [
            "defaultdict(<class 'int'>, {'red': 3, 'green': 2, 'blue': 1})\n"
          ],
          "name": "stdout"
        }
      ]
    },
    {
      "cell_type": "markdown",
      "metadata": {
        "id": "w1u_KGwSufa0"
      },
      "source": [
        "### Grouping with dictionaries"
      ]
    },
    {
      "cell_type": "code",
      "metadata": {
        "collapsed": true,
        "id": "BqBWsmdCufa1"
      },
      "source": [
        "names = ['raymond', 'rachel', 'mathhew', 'roger', 'betty', 'melissa', 'judith', 'charlie']"
      ],
      "execution_count": null,
      "outputs": []
    },
    {
      "cell_type": "code",
      "metadata": {
        "collapsed": true,
        "id": "bpl024Idufa2"
      },
      "source": [
        "d = {}\n",
        "for name in names:\n",
        "    key = len(name)\n",
        "    if key not in d:\n",
        "        d[key] = []\n",
        "    d[key].append(name)"
      ],
      "execution_count": null,
      "outputs": []
    },
    {
      "cell_type": "code",
      "metadata": {
        "id": "wZDuQ3hbufa2",
        "outputId": "ac2d92a8-7b95-475b-e365-522c39af5f50"
      },
      "source": [
        "d"
      ],
      "execution_count": null,
      "outputs": [
        {
          "output_type": "execute_result",
          "data": {
            "text/plain": [
              "{5: ['roger', 'betty'],\n",
              " 6: ['rachel', 'judith'],\n",
              " 7: ['raymond', 'mathhew', 'melissa', 'charlie']}"
            ]
          },
          "metadata": {
            "tags": []
          },
          "execution_count": 48
        }
      ]
    },
    {
      "cell_type": "code",
      "metadata": {
        "id": "srB-A7HKufa3"
      },
      "source": [
        "# better way\n",
        "# just like get but has a side effect of missing key\n",
        "# also the word is bad\n",
        "\n",
        "d = {}\n",
        "for name in names:\n",
        "    key = len(name)\n",
        "    d.setdefault(key, []).append(name)"
      ],
      "execution_count": null,
      "outputs": []
    },
    {
      "cell_type": "code",
      "metadata": {
        "id": "PJ0LFMD6ufa4",
        "outputId": "5e562378-cd56-4934-82d2-278f79f8378e"
      },
      "source": [
        "d"
      ],
      "execution_count": null,
      "outputs": [
        {
          "output_type": "execute_result",
          "data": {
            "text/plain": [
              "{5: ['roger', 'betty'],\n",
              " 6: ['rachel', 'judith'],\n",
              " 7: ['raymond', 'mathhew', 'melissa', 'charlie']}"
            ]
          },
          "metadata": {
            "tags": []
          },
          "execution_count": 50
        }
      ]
    },
    {
      "cell_type": "code",
      "metadata": {
        "collapsed": true,
        "id": "AYWxor4tufbH"
      },
      "source": [
        "# modern way\n",
        "d = defaultdict(list)\n",
        "for name in names:\n",
        "    key = len(name)\n",
        "    d[key].append(name)"
      ],
      "execution_count": null,
      "outputs": []
    },
    {
      "cell_type": "code",
      "metadata": {
        "id": "WIQUbfrsufbI",
        "outputId": "1a8a811b-f397-44a3-fa2f-1daa78b18f85"
      },
      "source": [
        "d"
      ],
      "execution_count": null,
      "outputs": [
        {
          "output_type": "execute_result",
          "data": {
            "text/plain": [
              "defaultdict(list,\n",
              "            {5: ['roger', 'betty'],\n",
              "             6: ['rachel', 'judith'],\n",
              "             7: ['raymond', 'mathhew', 'melissa', 'charlie']})"
            ]
          },
          "metadata": {
            "tags": []
          },
          "execution_count": 52
        }
      ]
    },
    {
      "cell_type": "markdown",
      "metadata": {
        "id": "bOQXEd_fufbI"
      },
      "source": [
        "> This is the new idiom for grouping in python"
      ]
    },
    {
      "cell_type": "markdown",
      "metadata": {
        "id": "MB_AMtAhufbK"
      },
      "source": [
        "### Is a dictionary pop() atomic?"
      ]
    },
    {
      "cell_type": "code",
      "metadata": {
        "collapsed": true,
        "id": "g-MDpfK5ufbL"
      },
      "source": [
        "d = {'matthew': 'blue', 'rachel': 'green', 'raymond': 'red'}"
      ],
      "execution_count": null,
      "outputs": []
    },
    {
      "cell_type": "code",
      "metadata": {
        "id": "QokPbg3_ufbN",
        "outputId": "35370fda-0f85-4ada-e956-0224f05f8872"
      },
      "source": [
        "while d:\n",
        "    key, value = d.popitem()\n",
        "    print (key, '--->', value)"
      ],
      "execution_count": null,
      "outputs": [
        {
          "output_type": "stream",
          "text": [
            "raymond ---> red\n",
            "rachel ---> green\n",
            "matthew ---> blue\n"
          ],
          "name": "stdout"
        }
      ]
    },
    {
      "cell_type": "markdown",
      "metadata": {
        "id": "UBcUVzpwufbO"
      },
      "source": [
        "> You do not have to put locks around it so it can be used in threads"
      ]
    },
    {
      "cell_type": "markdown",
      "metadata": {
        "id": "mjUdx0JjufbO"
      },
      "source": [
        "### Linking dictionaries"
      ]
    },
    {
      "cell_type": "code",
      "metadata": {
        "collapsed": true,
        "id": "1qzdqKvmufbR"
      },
      "source": [
        "a = {'name': 'Ayush'}\n",
        "b = {'name': 'AyushB', 'email': 'test@test.com'}\n",
        "c = {'name': 'AyushC', 'email': 'test@test.com', 'nextparam': '222'}"
      ],
      "execution_count": null,
      "outputs": []
    },
    {
      "cell_type": "code",
      "metadata": {
        "id": "ambjoujLufbS",
        "outputId": "f36d3b7a-1ce9-4d67-df6d-f955e68bf271"
      },
      "source": [
        "from collections import ChainMap\n",
        "ChainMap(a, b, c)"
      ],
      "execution_count": null,
      "outputs": [
        {
          "output_type": "execute_result",
          "data": {
            "text/plain": [
              "ChainMap({'name': 'Ayush'}, {'name': 'AyushB', 'email': 'test@test.com'}, {'name': 'AyushC', 'email': 'test@test.com', 'nextparam': '222'})"
            ]
          },
          "metadata": {
            "tags": []
          },
          "execution_count": 56
        }
      ]
    },
    {
      "cell_type": "markdown",
      "metadata": {
        "id": "VBEZLjNFufbS"
      },
      "source": [
        "### Clarify function calls with keyword arguments"
      ]
    },
    {
      "cell_type": "code",
      "metadata": {
        "collapsed": true,
        "id": "qkSuWgOCufbT"
      },
      "source": [
        "def twitter_search(name, retweets, numtweets, popular):\n",
        "    return 0"
      ],
      "execution_count": null,
      "outputs": []
    },
    {
      "cell_type": "code",
      "metadata": {
        "id": "IOG7fS0QufbT",
        "outputId": "6c86a1d1-9434-4c68-e6ce-2e6706b7ce06"
      },
      "source": [
        "# without keyword arguments\n",
        "twitter_search('obama', False, 20, True)"
      ],
      "execution_count": null,
      "outputs": [
        {
          "output_type": "execute_result",
          "data": {
            "text/plain": [
              "0"
            ]
          },
          "metadata": {
            "tags": []
          },
          "execution_count": 58
        }
      ]
    },
    {
      "cell_type": "code",
      "metadata": {
        "id": "ZSA2OnTGufbT",
        "outputId": "2bc71017-051b-4a05-dacf-3ef77340ee0a"
      },
      "source": [
        "# with keyword arguments\n",
        "twitter_search(name='obama', retweets=False, numtweets=20, popular=True)"
      ],
      "execution_count": null,
      "outputs": [
        {
          "output_type": "execute_result",
          "data": {
            "text/plain": [
              "0"
            ]
          },
          "metadata": {
            "tags": []
          },
          "execution_count": 59
        }
      ]
    },
    {
      "cell_type": "markdown",
      "metadata": {
        "id": "NecGNO4cufbU"
      },
      "source": [
        "### Clarify multiple return values with named tuples"
      ]
    },
    {
      "cell_type": "markdown",
      "metadata": {
        "id": "zQewh7ptufbU"
      },
      "source": [
        "use namedtuple instead of tuple"
      ]
    },
    {
      "cell_type": "code",
      "metadata": {
        "collapsed": true,
        "id": "USrxbZGrufbU"
      },
      "source": [
        "from collections import namedtuple"
      ],
      "execution_count": null,
      "outputs": []
    },
    {
      "cell_type": "code",
      "metadata": {
        "id": "-4c-kL5qufbV"
      },
      "source": [
        "TestResults = namedtuple('TestResults', ['failed', 'attempted'])"
      ],
      "execution_count": null,
      "outputs": []
    },
    {
      "cell_type": "code",
      "metadata": {
        "id": "q43OOQdaufbV",
        "outputId": "2ca04699-b36a-4d06-915e-5e984f6ee1ec"
      },
      "source": [
        "TestResults(0, 1)"
      ],
      "execution_count": null,
      "outputs": [
        {
          "output_type": "execute_result",
          "data": {
            "text/plain": [
              "TestResults(failed=0, attempted=1)"
            ]
          },
          "metadata": {
            "tags": []
          },
          "execution_count": 62
        }
      ]
    },
    {
      "cell_type": "markdown",
      "metadata": {
        "id": "cP1a9O_kufbW"
      },
      "source": [
        "### Unpacking sequences"
      ]
    },
    {
      "cell_type": "code",
      "metadata": {
        "collapsed": true,
        "id": "XRM7IffzufbW"
      },
      "source": [
        "p = 'Raymond', 'Hettinger', 0x30, 'python@example.com'"
      ],
      "execution_count": null,
      "outputs": []
    },
    {
      "cell_type": "code",
      "metadata": {
        "id": "2qkQQVqBufbW",
        "outputId": "e4b12971-233d-41e8-c73d-f90c9ddfbb1f"
      },
      "source": [
        "p"
      ],
      "execution_count": null,
      "outputs": [
        {
          "output_type": "execute_result",
          "data": {
            "text/plain": [
              "('Raymond', 'Hettinger', 48, 'python@example.com')"
            ]
          },
          "metadata": {
            "tags": []
          },
          "execution_count": 64
        }
      ]
    },
    {
      "cell_type": "code",
      "metadata": {
        "id": "mVij3o7QufbW"
      },
      "source": [
        "# instead of doing this\n",
        "\n",
        "fname = p[0]\n",
        "lname = p[1]\n",
        "age = p[2]\n",
        "email = p[3]"
      ],
      "execution_count": null,
      "outputs": []
    },
    {
      "cell_type": "code",
      "metadata": {
        "collapsed": true,
        "id": "G7-78dqAufbY"
      },
      "source": [
        "# do this\n",
        "\n",
        "fname, lname, age, email = p "
      ],
      "execution_count": null,
      "outputs": []
    },
    {
      "cell_type": "markdown",
      "metadata": {
        "id": "f8ZfMM-eufbd"
      },
      "source": [
        "### Updating multiple state variables"
      ]
    },
    {
      "cell_type": "code",
      "metadata": {
        "collapsed": true,
        "id": "tzyttHF7ufbg"
      },
      "source": [
        "# fibonacci generator\n",
        "\n",
        "def fibonacci(n):\n",
        "    x = 0\n",
        "    y = 1\n",
        "    for i in range(n):\n",
        "        yield x\n",
        "        t = y\n",
        "        y = x + y\n",
        "        x = t\n",
        "        "
      ],
      "execution_count": null,
      "outputs": []
    },
    {
      "cell_type": "code",
      "metadata": {
        "id": "fu2K1RkKufbg",
        "outputId": "a3ac6a08-8936-405a-c0e9-4a4e098725c9"
      },
      "source": [
        "for f in fibonacci(5):\n",
        "    print (f)"
      ],
      "execution_count": null,
      "outputs": [
        {
          "output_type": "stream",
          "text": [
            "0\n",
            "1\n",
            "1\n",
            "2\n",
            "3\n"
          ],
          "name": "stdout"
        }
      ]
    },
    {
      "cell_type": "code",
      "metadata": {
        "collapsed": true,
        "id": "J0tjFXd0ufbh"
      },
      "source": [
        "# Update states at ones \n",
        "\n",
        "def fibonacci(n):\n",
        "    x, y = 0, 1\n",
        "    for i in range(n):\n",
        "        yield x\n",
        "        x, y = y, x+y"
      ],
      "execution_count": null,
      "outputs": []
    },
    {
      "cell_type": "code",
      "metadata": {
        "id": "IT_aZAC8ufbh",
        "outputId": "a4e864aa-b831-46be-d12c-b9cf4e724d53"
      },
      "source": [
        "for f in fibonacci(5):\n",
        "    print (f)"
      ],
      "execution_count": null,
      "outputs": [
        {
          "output_type": "stream",
          "text": [
            "0\n",
            "1\n",
            "1\n",
            "2\n",
            "3\n"
          ],
          "name": "stdout"
        }
      ]
    },
    {
      "cell_type": "markdown",
      "metadata": {
        "id": "to-QRxkzufbh"
      },
      "source": [
        "### Simultaneous state updates"
      ]
    },
    {
      "cell_type": "markdown",
      "metadata": {
        "id": "ljPxZ4J8ufbh"
      },
      "source": [
        "This is one of the biggest causes of bug caused by states."
      ]
    },
    {
      "cell_type": "markdown",
      "metadata": {
        "id": "dpR9FWPRufbi"
      },
      "source": [
        "### Concatenating strings"
      ]
    },
    {
      "cell_type": "code",
      "metadata": {
        "collapsed": true,
        "id": "P69XXYhLufbi"
      },
      "source": [
        "names = ['raymond', 'rachel', 'mathhew', 'roger', 'betty', 'melissa', 'judith', 'charlie']"
      ],
      "execution_count": null,
      "outputs": []
    },
    {
      "cell_type": "code",
      "metadata": {
        "id": "pzepOGRqufbo",
        "outputId": "e698b28b-84fb-46b6-8bce-0f195de00ef7"
      },
      "source": [
        "# do not use + \n",
        "# this is quadratic behaviour\n",
        "\n",
        "s = names[0]\n",
        "for name in names[1:]:\n",
        "    s += ', ' + name\n",
        "print (s)"
      ],
      "execution_count": null,
      "outputs": [
        {
          "output_type": "stream",
          "text": [
            "raymond, rachel, mathhew, roger, betty, melissa, judith, charlie\n"
          ],
          "name": "stdout"
        }
      ]
    },
    {
      "cell_type": "code",
      "metadata": {
        "id": "LsjNrLHkufbp",
        "outputId": "2d2982df-5c3d-4e92-ed3d-fb172be0e022"
      },
      "source": [
        "# do this\n",
        "\n",
        "print (', '.join(names))"
      ],
      "execution_count": null,
      "outputs": [
        {
          "output_type": "stream",
          "text": [
            "raymond, rachel, mathhew, roger, betty, melissa, judith, charlie\n"
          ],
          "name": "stdout"
        }
      ]
    },
    {
      "cell_type": "markdown",
      "metadata": {
        "id": "Xeqwna3nufbp"
      },
      "source": [
        "### Updating sequences"
      ]
    },
    {
      "cell_type": "code",
      "metadata": {
        "collapsed": true,
        "id": "1ah91ZWmufbp"
      },
      "source": [
        "names = ['raymond', 'rachel', 'mathhew', 'roger', 'betty', 'melissa', 'judith', 'charlie']"
      ],
      "execution_count": null,
      "outputs": []
    },
    {
      "cell_type": "code",
      "metadata": {
        "id": "_WeHKDXcufbp"
      },
      "source": [
        "del names[0]\n",
        "names.pop(0)\n",
        "names.insert(0, 'mark')"
      ],
      "execution_count": null,
      "outputs": []
    },
    {
      "cell_type": "code",
      "metadata": {
        "id": "RtaeuSUnufbq",
        "outputId": "8b987f4e-239a-4a70-a4e5-e75ecaa87040"
      },
      "source": [
        "names"
      ],
      "execution_count": null,
      "outputs": [
        {
          "output_type": "execute_result",
          "data": {
            "text/plain": [
              "['mark', 'mathhew', 'roger', 'betty', 'melissa', 'judith', 'charlie']"
            ]
          },
          "metadata": {
            "tags": []
          },
          "execution_count": 76
        }
      ]
    },
    {
      "cell_type": "code",
      "metadata": {
        "id": "bP_DuM_mufbq"
      },
      "source": [
        "from collections import deque\n",
        "names = deque( ['raymond', 'rachel', 'mathhew', 'roger', 'betty', 'melissa', 'judith', 'charlie'])"
      ],
      "execution_count": null,
      "outputs": []
    },
    {
      "cell_type": "code",
      "metadata": {
        "id": "Pp73QrlTufbr",
        "outputId": "a5f2ec16-c018-49d1-f810-42170d01f3fb"
      },
      "source": [
        "names"
      ],
      "execution_count": null,
      "outputs": [
        {
          "output_type": "execute_result",
          "data": {
            "text/plain": [
              "deque(['raymond',\n",
              "       'rachel',\n",
              "       'mathhew',\n",
              "       'roger',\n",
              "       'betty',\n",
              "       'melissa',\n",
              "       'judith',\n",
              "       'charlie'])"
            ]
          },
          "metadata": {
            "tags": []
          },
          "execution_count": 78
        }
      ]
    },
    {
      "cell_type": "code",
      "metadata": {
        "collapsed": true,
        "id": "8L49-xvrufbr"
      },
      "source": [
        "del names[0]\n",
        "names.popleft()\n",
        "names.appendleft('mark')"
      ],
      "execution_count": null,
      "outputs": []
    },
    {
      "cell_type": "code",
      "metadata": {
        "id": "3WidLrEBufbs",
        "outputId": "6f744923-437e-4955-ce93-95e154a1b796"
      },
      "source": [
        "names"
      ],
      "execution_count": null,
      "outputs": [
        {
          "output_type": "execute_result",
          "data": {
            "text/plain": [
              "deque(['mark', 'mathhew', 'roger', 'betty', 'melissa', 'judith', 'charlie'])"
            ]
          },
          "metadata": {
            "tags": []
          },
          "execution_count": 80
        }
      ]
    },
    {
      "cell_type": "markdown",
      "metadata": {
        "id": "nKqai2O6ufbs"
      },
      "source": [
        "deque is very efficient for updating sequences"
      ]
    },
    {
      "cell_type": "markdown",
      "metadata": {
        "id": "6BymarvMufbt"
      },
      "source": [
        "### Using decorators to factor-out administrative logic"
      ]
    },
    {
      "cell_type": "code",
      "metadata": {
        "collapsed": true,
        "id": "R_LIR-Wlufbt"
      },
      "source": [
        "def web_lookup(url, saved={}):\n",
        "    if url in saved:\n",
        "        return saved[url]\n",
        "    page = urllib.urlopen(url).read()\n",
        "    saved[url] = page\n",
        "    return page"
      ],
      "execution_count": null,
      "outputs": []
    },
    {
      "cell_type": "code",
      "metadata": {
        "id": "3c_uSsnyufbt"
      },
      "source": [
        "#@cache\n",
        "def web_lookup(url):\n",
        "    return urllib.urlopen(url).read()"
      ],
      "execution_count": null,
      "outputs": []
    },
    {
      "cell_type": "markdown",
      "metadata": {
        "id": "psEffr2pufbu"
      },
      "source": [
        "### Caching decorator"
      ]
    },
    {
      "cell_type": "code",
      "metadata": {
        "collapsed": true,
        "id": "eilW_zICufbu"
      },
      "source": [
        "def cache(func):\n",
        "    saved = {}\n",
        "    @wraps(func)\n",
        "    def newfunc(*args):\n",
        "        if args in saved:\n",
        "            return newfunc(*args)\n",
        "        result = func(*args)\n",
        "        saved[args] = result\n",
        "        return result\n",
        "    return newfunc"
      ],
      "execution_count": null,
      "outputs": []
    },
    {
      "cell_type": "markdown",
      "metadata": {
        "id": "js_KLRzVufbv"
      },
      "source": [
        "### How to open and close files"
      ]
    },
    {
      "cell_type": "code",
      "metadata": {
        "id": "w1gDDLtYufbw"
      },
      "source": [
        "# do not do this\n",
        "f = open('sth.sth')\n",
        "try:\n",
        "    data  = f.read()\n",
        "finally:\n",
        "    f.close()"
      ],
      "execution_count": null,
      "outputs": []
    },
    {
      "cell_type": "code",
      "metadata": {
        "id": "rykZU3WJufbw"
      },
      "source": [
        "# do this\n",
        "with open('sth.sth') as f:\n",
        "    data = f.read()"
      ],
      "execution_count": null,
      "outputs": []
    },
    {
      "cell_type": "markdown",
      "metadata": {
        "id": "jaO63i1sufbw"
      },
      "source": [
        "### Concise expressive one-liners"
      ]
    },
    {
      "cell_type": "markdown",
      "metadata": {
        "id": "p9uT_HIVufbw"
      },
      "source": [
        "### List Comprehensions"
      ]
    },
    {
      "cell_type": "code",
      "metadata": {
        "id": "zfgqi7cfufb0",
        "outputId": "bb6e7572-b904-4917-eac3-ec70af052865"
      },
      "source": [
        "[x ** 2 for x in range(10)]"
      ],
      "execution_count": null,
      "outputs": [
        {
          "output_type": "execute_result",
          "data": {
            "text/plain": [
              "[0, 1, 4, 9, 16, 25, 36, 49, 64, 81]"
            ]
          },
          "metadata": {
            "tags": []
          },
          "execution_count": 90
        }
      ]
    },
    {
      "cell_type": "code",
      "metadata": {
        "id": "mdGnnNehufb0"
      },
      "source": [
        "gen = (x ** 2 for x in range(10))"
      ],
      "execution_count": null,
      "outputs": []
    },
    {
      "cell_type": "code",
      "metadata": {
        "id": "oBIL4Md-ufb1",
        "outputId": "769b1bb2-dc0f-4712-fffd-cd6ce91d215a"
      },
      "source": [
        "for x in gen:\n",
        "    print (x)"
      ],
      "execution_count": null,
      "outputs": [
        {
          "output_type": "stream",
          "text": [
            "0\n",
            "1\n",
            "4\n",
            "9\n",
            "16\n",
            "25\n",
            "36\n",
            "49\n",
            "64\n",
            "81\n"
          ],
          "name": "stdout"
        }
      ]
    }
  ]
}